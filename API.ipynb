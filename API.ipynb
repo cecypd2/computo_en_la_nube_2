{
 "cells": [
  {
   "cell_type": "markdown",
   "metadata": {},
   "source": [
    "#  Prueba del API\n",
    "\n",
    "Los datos de prueba consisten en los primeros 10 valores de la base de datos utilizada para entrenar."
   ]
  },
  {
   "cell_type": "code",
   "execution_count": 26,
   "metadata": {},
   "outputs": [
    {
     "name": "stdout",
     "output_type": "stream",
     "text": [
      "{'CustomerID': [1, 2, 3, 4, 5, 6, 7, 10, 11, 12], 'NameStyle': [False, False, False, False, False, False, False, False, False, False], 'FirstName': ['Orlando', 'Keith', 'Donna', 'Janet', 'Lucy', 'Rosmarie', 'Dominic', 'Kathleen', 'Katherine', 'Johnny'], 'LastName': ['Gee', 'Harris', 'Carreras', 'Gates', 'Harrington', 'Carroll', 'Gash', 'Garza', 'Harding', 'Caprio'], 'CompanyName': ['A Bike Store', 'Progressive Sports', 'Advanced Bike Components', 'Modular Cycle Systems', 'Metropolitan Sports Supply', 'Aerobic Exercise Company', 'Associated Bikes', 'Rural Cycle Emporium', 'Sharp Bikes', 'Bikes and Motorbikes'], 'SalesPerson': ['adventure-works\\\\pamela0', 'adventure-works\\\\david8', 'adventure-works\\\\jillian0', 'adventure-works\\\\jillian0', 'adventure-works\\\\shu0', 'adventure-works\\\\linda3', 'adventure-works\\\\shu0', 'adventure-works\\\\josé1', 'adventure-works\\\\josé1', 'adventure-works\\\\garrett1'], 'EmailAddress': ['orlando0@adventure-works.com', 'keith0@adventure-works.com', 'donna0@adventure-works.com', 'janet1@adventure-works.com', 'lucy0@adventure-works.com', 'rosmarie0@adventure-works.com', 'dominic0@adventure-works.com', 'kathleen0@adventure-works.com', 'katherine0@adventure-works.com', 'johnny0@adventure-works.com'], 'Phone': ['245-555-0173', '170-555-0127', '279-555-0130', '710-555-0173', '828-555-0186', '244-555-0112', '192-555-0173', '150-555-0127', '926-555-0159', '112-555-0191'], 'PasswordHash': ['L/Rlwxzp4w7RWmEgXX+/A7cXaePEPcp+KwQhl2fJL7w=', 'YPdtRdvqeAhj6wyxEsFdshBDNXxkCXn+CRgbvJItknw=', 'LNoK27abGQo48gGue3EBV/UrlYSToV0/s87dCRV7uJk=', 'ElzTpSNbUW1Ut+L5cWlfR7MF6nBZia8WpmGaQPjLOJA=', 'KJqV15wsX3PG8TS5GSddp6LFFVdd3CoRftZM/tP0+R4=', 'OKT0scizCdIzymHHOtyJKQiC/fCILSooSZ8dQ2Y34VM=', 'ZccoP/jZGQm+Xpzc7RKwDhS11YFNybwcPVRYTSNcnSg=', 'Qa3aMCxNbVLGrc0b99KsbQqiVgwYDfHcsK9GZSUxcTM=', 'uRlorVzDGNJIX9I+ehTlRK+liT4UKRgWhApJgUMC2d4=', 'jtF9jBoFYeJTaET7x+eJDkd7BzMz15Wo9odbGPBaIak='], 'PasswordSalt': ['1KjXYs4=', 'fs1ZGhY=', 'YTNH5Rw=', 'nm7D5e4=', 'cNFKU4w=', 'ihWf50M=', 'sPoUBSQ=', 'Ls05W3g=', 'jpHKbqE=', 'wVLnvHo='], 'rowguid': ['3F5AE95E-B87D-4AED-95B4-C3797AFCB74F', 'E552F657-A9AF-4A7D-A645-C429D6E02491', '130774B1-DB21-4EF3-98C8-C104BCD6ED6D', 'FF862851-1DAA-4044-BE7C-3E85583C054D', '83905BDC-6F5E-4F71-B162-C98DA069F38A', '1A92DF88-BFA2-467D-BD54-FCB9E647FDD7', '03E9273E-B193-448E-9823-FE0C44AEED78', 'CDB6698D-2FF1-4FBA-8F22-60AD1D11DABD', '750F3495-59C4-48A0-80E1-E37EC60E77D9', '947BCAF1-1F32-44F3-B9C3-0011F95FBE54'], 'ModifiedDate': ['2005-08-01', '2006-08-01', '2005-09-01', '2006-07-01', '2006-09-01', '2007-09-01', '2006-07-01', '2006-09-01', '2005-08-01', '2006-08-01'], 'ModifiedDateOrdinal': [732159, 732524, 732190, 732493, 732555, 732920, 732493, 732555, 732159, 732524]}\n"
     ]
    }
   ],
   "source": [
    "import pandas as pd\n",
    "\n",
    "data = pd.read_csv(\"prueba.csv\")\n",
    "data = data.to_dict(orient='list')\n",
    "print(data)"
   ]
  },
  {
   "cell_type": "code",
   "execution_count": 27,
   "metadata": {},
   "outputs": [
    {
     "name": "stdout",
     "output_type": "stream",
     "text": [
      "[732788.86, 732807.63, 733313.45, 732818.13, 732813.74, 733288.45, 732829.2, 732913.11, 732817.08, 733313.45]\n"
     ]
    },
    {
     "data": {
      "text/plain": [
       "{'CustomerID': [1, 2, 3, 4, 5, 6, 7, 10, 11, 12],\n",
       " 'NameStyle': [False,\n",
       "  False,\n",
       "  False,\n",
       "  False,\n",
       "  False,\n",
       "  False,\n",
       "  False,\n",
       "  False,\n",
       "  False,\n",
       "  False],\n",
       " 'FirstName': ['Orlando',\n",
       "  'Keith',\n",
       "  'Donna',\n",
       "  'Janet',\n",
       "  'Lucy',\n",
       "  'Rosmarie',\n",
       "  'Dominic',\n",
       "  'Kathleen',\n",
       "  'Katherine',\n",
       "  'Johnny'],\n",
       " 'LastName': ['Gee',\n",
       "  'Harris',\n",
       "  'Carreras',\n",
       "  'Gates',\n",
       "  'Harrington',\n",
       "  'Carroll',\n",
       "  'Gash',\n",
       "  'Garza',\n",
       "  'Harding',\n",
       "  'Caprio'],\n",
       " 'CompanyName': ['A Bike Store',\n",
       "  'Progressive Sports',\n",
       "  'Advanced Bike Components',\n",
       "  'Modular Cycle Systems',\n",
       "  'Metropolitan Sports Supply',\n",
       "  'Aerobic Exercise Company',\n",
       "  'Associated Bikes',\n",
       "  'Rural Cycle Emporium',\n",
       "  'Sharp Bikes',\n",
       "  'Bikes and Motorbikes'],\n",
       " 'SalesPerson': ['adventure-works\\\\pamela0',\n",
       "  'adventure-works\\\\david8',\n",
       "  'adventure-works\\\\jillian0',\n",
       "  'adventure-works\\\\jillian0',\n",
       "  'adventure-works\\\\shu0',\n",
       "  'adventure-works\\\\linda3',\n",
       "  'adventure-works\\\\shu0',\n",
       "  'adventure-works\\\\josé1',\n",
       "  'adventure-works\\\\josé1',\n",
       "  'adventure-works\\\\garrett1'],\n",
       " 'EmailAddress': ['orlando0@adventure-works.com',\n",
       "  'keith0@adventure-works.com',\n",
       "  'donna0@adventure-works.com',\n",
       "  'janet1@adventure-works.com',\n",
       "  'lucy0@adventure-works.com',\n",
       "  'rosmarie0@adventure-works.com',\n",
       "  'dominic0@adventure-works.com',\n",
       "  'kathleen0@adventure-works.com',\n",
       "  'katherine0@adventure-works.com',\n",
       "  'johnny0@adventure-works.com'],\n",
       " 'Phone': ['245-555-0173',\n",
       "  '170-555-0127',\n",
       "  '279-555-0130',\n",
       "  '710-555-0173',\n",
       "  '828-555-0186',\n",
       "  '244-555-0112',\n",
       "  '192-555-0173',\n",
       "  '150-555-0127',\n",
       "  '926-555-0159',\n",
       "  '112-555-0191'],\n",
       " 'PasswordHash': ['L/Rlwxzp4w7RWmEgXX+/A7cXaePEPcp+KwQhl2fJL7w=',\n",
       "  'YPdtRdvqeAhj6wyxEsFdshBDNXxkCXn+CRgbvJItknw=',\n",
       "  'LNoK27abGQo48gGue3EBV/UrlYSToV0/s87dCRV7uJk=',\n",
       "  'ElzTpSNbUW1Ut+L5cWlfR7MF6nBZia8WpmGaQPjLOJA=',\n",
       "  'KJqV15wsX3PG8TS5GSddp6LFFVdd3CoRftZM/tP0+R4=',\n",
       "  'OKT0scizCdIzymHHOtyJKQiC/fCILSooSZ8dQ2Y34VM=',\n",
       "  'ZccoP/jZGQm+Xpzc7RKwDhS11YFNybwcPVRYTSNcnSg=',\n",
       "  'Qa3aMCxNbVLGrc0b99KsbQqiVgwYDfHcsK9GZSUxcTM=',\n",
       "  'uRlorVzDGNJIX9I+ehTlRK+liT4UKRgWhApJgUMC2d4=',\n",
       "  'jtF9jBoFYeJTaET7x+eJDkd7BzMz15Wo9odbGPBaIak='],\n",
       " 'PasswordSalt': ['1KjXYs4=',\n",
       "  'fs1ZGhY=',\n",
       "  'YTNH5Rw=',\n",
       "  'nm7D5e4=',\n",
       "  'cNFKU4w=',\n",
       "  'ihWf50M=',\n",
       "  'sPoUBSQ=',\n",
       "  'Ls05W3g=',\n",
       "  'jpHKbqE=',\n",
       "  'wVLnvHo='],\n",
       " 'rowguid': ['3F5AE95E-B87D-4AED-95B4-C3797AFCB74F',\n",
       "  'E552F657-A9AF-4A7D-A645-C429D6E02491',\n",
       "  '130774B1-DB21-4EF3-98C8-C104BCD6ED6D',\n",
       "  'FF862851-1DAA-4044-BE7C-3E85583C054D',\n",
       "  '83905BDC-6F5E-4F71-B162-C98DA069F38A',\n",
       "  '1A92DF88-BFA2-467D-BD54-FCB9E647FDD7',\n",
       "  '03E9273E-B193-448E-9823-FE0C44AEED78',\n",
       "  'CDB6698D-2FF1-4FBA-8F22-60AD1D11DABD',\n",
       "  '750F3495-59C4-48A0-80E1-E37EC60E77D9',\n",
       "  '947BCAF1-1F32-44F3-B9C3-0011F95FBE54'],\n",
       " 'ModifiedDate': ['2005-08-01',\n",
       "  '2006-08-01',\n",
       "  '2005-09-01',\n",
       "  '2006-07-01',\n",
       "  '2006-09-01',\n",
       "  '2007-09-01',\n",
       "  '2006-07-01',\n",
       "  '2006-09-01',\n",
       "  '2005-08-01',\n",
       "  '2006-08-01'],\n",
       " 'ModifiedDateOrdinal': '[732788.86, 732807.63, 733313.45, 732818.13, 732813.74, 733288.45, 732829.2, 732913.11, 732817.08, 733313.45]'}"
      ]
     },
     "metadata": {},
     "output_type": "display_data"
    }
   ],
   "source": [
    "import json\n",
    "import requests\n",
    "\n",
    "with open(\"uri.json\") as f:\n",
    "    scoring_uri = json.load(f)[\"URI\"][0]\n",
    "\n",
    "response = requests.post(\n",
    "    scoring_uri, \n",
    "    json={\"data\": [data]}, \n",
    "    headers={\"Content-Type\": \"application/json\"}\n",
    ")\n",
    "\n",
    "if response.status_code == 200:\n",
    "    result = response.json()\n",
    "    print(result)\n",
    "    data[\"ModifiedDateOrdinal\"] = result\n",
    "    display(data)\n",
    "else:\n",
    "    print(f\"Error: {response.text}\")"
   ]
  },
  {
   "cell_type": "markdown",
   "metadata": {},
   "source": [
    "Las predicciones son en formato Ordinal. Para verlo como fecha, se puede aplicar la siguiente función:"
   ]
  },
  {
   "cell_type": "code",
   "execution_count": 28,
   "metadata": {},
   "outputs": [],
   "source": [
    "import ast\n",
    "\n",
    "data['ModifiedDateOrdinal'] = ast.literal_eval(data['ModifiedDateOrdinal'])\n",
    "    \n"
   ]
  },
  {
   "cell_type": "code",
   "execution_count": 29,
   "metadata": {},
   "outputs": [
    {
     "data": {
      "text/plain": [
       "0   2007-04-22\n",
       "1   2007-05-11\n",
       "2   2008-09-28\n",
       "3   2007-05-22\n",
       "4   2007-05-17\n",
       "5   2008-09-03\n",
       "6   2007-06-02\n",
       "7   2007-08-25\n",
       "8   2007-05-21\n",
       "9   2008-09-28\n",
       "Name: ModifiedDateRestaurada, dtype: datetime64[ns]"
      ]
     },
     "execution_count": 29,
     "metadata": {},
     "output_type": "execute_result"
    }
   ],
   "source": [
    "data = pd.DataFrame(data)\n",
    "data['ModifiedDateRestaurada'] = data['ModifiedDateOrdinal'].apply(lambda x: pd.Timestamp.fromordinal(int(x)))\n",
    "data['ModifiedDateRestaurada']"
   ]
  }
 ],
 "metadata": {
  "kernelspec": {
   "display_name": "openslide",
   "language": "python",
   "name": "python3"
  },
  "language_info": {
   "codemirror_mode": {
    "name": "ipython",
    "version": 3
   },
   "file_extension": ".py",
   "mimetype": "text/x-python",
   "name": "python",
   "nbconvert_exporter": "python",
   "pygments_lexer": "ipython3",
   "version": "3.10.15"
  }
 },
 "nbformat": 4,
 "nbformat_minor": 2
}
